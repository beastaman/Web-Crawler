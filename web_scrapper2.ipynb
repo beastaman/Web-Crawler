{
 "cells": [
  {
   "cell_type": "code",
   "execution_count": 35,
   "metadata": {},
   "outputs": [],
   "source": [
    "# get list of presidents of united states of america  from wikipedia"
   ]
  },
  {
   "cell_type": "code",
   "execution_count": 6,
   "metadata": {},
   "outputs": [],
   "source": [
    "import urllib.request\n",
    "import bs4 as bs"
   ]
  },
  {
   "cell_type": "code",
   "execution_count": 34,
   "metadata": {},
   "outputs": [],
   "source": [
    "url='https://en.wikipedia.org/wiki/List_of_presidents_of_India'"
   ]
  },
  {
   "cell_type": "code",
   "execution_count": 11,
   "metadata": {},
   "outputs": [],
   "source": [
    "sauce=urllib.request.urlopen(url).read()\n"
   ]
  },
  {
   "cell_type": "code",
   "execution_count": 12,
   "metadata": {},
   "outputs": [],
   "source": [
    "soup=bs.BeautifulSoup(sauce,'html5lib')"
   ]
  },
  {
   "cell_type": "code",
   "execution_count": 15,
   "metadata": {},
   "outputs": [],
   "source": [
    "# to print data in format we inspected the web page\n",
    "#print(soup.prettify())"
   ]
  },
  {
   "cell_type": "code",
   "execution_count": 46,
   "metadata": {},
   "outputs": [],
   "source": [
    "tb = soup.find('table',class_='wikitable')"
   ]
  },
  {
   "cell_type": "code",
   "execution_count": 49,
   "metadata": {},
   "outputs": [
    {
     "name": "stdout",
     "output_type": "stream",
     "text": [
      "<a href=\"/wiki/George_Washington\" title=\"George Washington\">George Washington</a>\n",
      "<a href=\"/wiki/John_Adams\" title=\"John Adams\">John Adams</a>\n",
      "<a href=\"/wiki/Thomas_Jefferson\" title=\"Thomas Jefferson\">Thomas Jefferson</a>\n",
      "<a href=\"/wiki/James_Madison\" title=\"James Madison\">James Madison</a>\n",
      "<a href=\"/wiki/James_Monroe\" title=\"James Monroe\">James Monroe</a>\n",
      "<a href=\"/wiki/John_Quincy_Adams\" title=\"John Quincy Adams\">John Quincy Adams</a>\n",
      "<a href=\"/wiki/Andrew_Jackson\" title=\"Andrew Jackson\">Andrew Jackson</a>\n",
      "<a href=\"/wiki/Martin_Van_Buren\" title=\"Martin Van Buren\">Martin Van Buren</a>\n",
      "<a href=\"/wiki/William_Henry_Harrison\" title=\"William Henry Harrison\">William Henry Harrison</a>\n",
      "<a href=\"/wiki/John_Tyler\" title=\"John Tyler\">John Tyler</a>\n",
      "<a href=\"/wiki/James_K._Polk\" title=\"James K. Polk\">James K. Polk</a>\n",
      "<a href=\"/wiki/Zachary_Taylor\" title=\"Zachary Taylor\">Zachary Taylor</a>\n",
      "<a href=\"/wiki/Millard_Fillmore\" title=\"Millard Fillmore\">Millard Fillmore</a>\n",
      "<a href=\"/wiki/Franklin_Pierce\" title=\"Franklin Pierce\">Franklin Pierce</a>\n",
      "<a href=\"/wiki/James_Buchanan\" title=\"James Buchanan\">James Buchanan</a>\n",
      "<a href=\"/wiki/Abraham_Lincoln\" title=\"Abraham Lincoln\">Abraham Lincoln</a>\n",
      "<a href=\"/wiki/Andrew_Johnson\" title=\"Andrew Johnson\">Andrew Johnson</a>\n",
      "<a href=\"/wiki/Ulysses_S._Grant\" title=\"Ulysses S. Grant\">Ulysses S. Grant</a>\n",
      "<a href=\"/wiki/Rutherford_B._Hayes\" title=\"Rutherford B. Hayes\">Rutherford B. Hayes</a>\n",
      "<a href=\"/wiki/James_A._Garfield\" title=\"James A. Garfield\">James A. Garfield</a>\n",
      "<a href=\"/wiki/Chester_A._Arthur\" title=\"Chester A. Arthur\">Chester A. Arthur</a>\n",
      "<a href=\"/wiki/Grover_Cleveland\" title=\"Grover Cleveland\">Grover Cleveland</a>\n",
      "<a href=\"/wiki/Benjamin_Harrison\" title=\"Benjamin Harrison\">Benjamin Harrison</a>\n",
      "<a href=\"/wiki/Grover_Cleveland\" title=\"Grover Cleveland\">Grover Cleveland</a>\n",
      "<a href=\"/wiki/William_McKinley\" title=\"William McKinley\">William McKinley</a>\n",
      "<a href=\"/wiki/Theodore_Roosevelt\" title=\"Theodore Roosevelt\">Theodore Roosevelt</a>\n",
      "<a href=\"/wiki/William_Howard_Taft\" title=\"William Howard Taft\">William Howard Taft</a>\n",
      "<a href=\"/wiki/Woodrow_Wilson\" title=\"Woodrow Wilson\">Woodrow Wilson</a>\n",
      "<a href=\"/wiki/Warren_G._Harding\" title=\"Warren G. Harding\">Warren G. Harding</a>\n",
      "<a href=\"/wiki/Calvin_Coolidge\" title=\"Calvin Coolidge\">Calvin Coolidge</a>\n",
      "<a href=\"/wiki/Herbert_Hoover\" title=\"Herbert Hoover\">Herbert Hoover</a>\n",
      "<a href=\"/wiki/Franklin_D._Roosevelt\" title=\"Franklin D. Roosevelt\">Franklin D. Roosevelt</a>\n",
      "<a href=\"/wiki/Harry_S._Truman\" title=\"Harry S. Truman\">Harry S. Truman</a>\n",
      "<a href=\"/wiki/Dwight_D._Eisenhower\" title=\"Dwight D. Eisenhower\">Dwight D. Eisenhower</a>\n",
      "<a href=\"/wiki/John_F._Kennedy\" title=\"John F. Kennedy\">John F. Kennedy</a>\n",
      "<a href=\"/wiki/Lyndon_B._Johnson\" title=\"Lyndon B. Johnson\">Lyndon B. Johnson</a>\n",
      "<a href=\"/wiki/Richard_Nixon\" title=\"Richard Nixon\">Richard Nixon</a>\n",
      "<a href=\"/wiki/Gerald_Ford\" title=\"Gerald Ford\">Gerald Ford</a>\n",
      "<a href=\"/wiki/Jimmy_Carter\" title=\"Jimmy Carter\">Jimmy Carter</a>\n",
      "<a href=\"/wiki/Ronald_Reagan\" title=\"Ronald Reagan\">Ronald Reagan</a>\n",
      "<a href=\"/wiki/George_H._W._Bush\" title=\"George H. W. Bush\">George H. W. Bush</a>\n",
      "<a href=\"/wiki/Bill_Clinton\" title=\"Bill Clinton\">Bill Clinton</a>\n",
      "<a href=\"/wiki/George_W._Bush\" title=\"George W. Bush\">George W. Bush</a>\n",
      "<a href=\"/wiki/Barack_Obama\" title=\"Barack Obama\">Barack Obama</a>\n",
      "<a href=\"/wiki/Donald_Trump\" title=\"Donald Trump\">Donald Trump</a>\n"
     ]
    }
   ],
   "source": [
    "# this will extract data under all the a tags\n",
    "for link in tb.find_all('b'):\n",
    "    name = link.find('a')\n",
    "    print(name)  "
   ]
  },
  {
   "cell_type": "code",
   "execution_count": 50,
   "metadata": {},
   "outputs": [
    {
     "name": "stdout",
     "output_type": "stream",
     "text": [
      "George Washington\n",
      "John Adams\n",
      "Thomas Jefferson\n",
      "James Madison\n",
      "James Monroe\n",
      "John Quincy Adams\n",
      "Andrew Jackson\n",
      "Martin Van Buren\n",
      "William Henry Harrison\n",
      "John Tyler\n",
      "James K. Polk\n",
      "Zachary Taylor\n",
      "Millard Fillmore\n",
      "Franklin Pierce\n",
      "James Buchanan\n",
      "Abraham Lincoln\n",
      "Andrew Johnson\n",
      "Ulysses S. Grant\n",
      "Rutherford B. Hayes\n",
      "James A. Garfield\n",
      "Chester A. Arthur\n",
      "Grover Cleveland\n",
      "Benjamin Harrison\n",
      "Grover Cleveland\n",
      "William McKinley\n",
      "Theodore Roosevelt\n",
      "William Howard Taft\n",
      "Woodrow Wilson\n",
      "Warren G. Harding\n",
      "Calvin Coolidge\n",
      "Herbert Hoover\n",
      "Franklin D. Roosevelt\n",
      "Harry S. Truman\n",
      "Dwight D. Eisenhower\n",
      "John F. Kennedy\n",
      "Lyndon B. Johnson\n",
      "Richard Nixon\n",
      "Gerald Ford\n",
      "Jimmy Carter\n",
      "Ronald Reagan\n",
      "George H. W. Bush\n",
      "Bill Clinton\n",
      "George W. Bush\n",
      "Barack Obama\n",
      "Donald Trump\n"
     ]
    }
   ],
   "source": [
    "# the element title will be extracted from all a tags \n",
    "for link in tb.find_all('b'):\n",
    "    name = link.find('a')\n",
    "    print(name.get_text('title'))"
   ]
  },
  {
   "cell_type": "code",
   "execution_count": null,
   "metadata": {},
   "outputs": [],
   "source": []
  },
  {
   "cell_type": "code",
   "execution_count": null,
   "metadata": {},
   "outputs": [],
   "source": []
  }
 ],
 "metadata": {
  "kernelspec": {
   "display_name": "Python 3",
   "language": "python",
   "name": "python3"
  },
  "language_info": {
   "codemirror_mode": {
    "name": "ipython",
    "version": 3
   },
   "file_extension": ".py",
   "mimetype": "text/x-python",
   "name": "python",
   "nbconvert_exporter": "python",
   "pygments_lexer": "ipython3",
   "version": "3.7.1"
  }
 },
 "nbformat": 4,
 "nbformat_minor": 2
}
